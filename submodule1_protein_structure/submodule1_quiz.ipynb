{
  "cells": [
    {
      "cell_type": "code",
      "execution_count": null,
      "metadata": {
        "colab": {
          "base_uri": "https://localhost:8080/"
        },
        "id": "0cZsE0uV9IIU",
        "outputId": "9b1fda33-4818-4072-8761-739ffe81aedd"
      },
      "outputs": [
        {
          "ename": "",
          "evalue": "",
          "output_type": "error",
          "traceback": [
            "\u001b[1;31mRunning cells with 'base (Python 3.7.2)' requires the ipykernel package.\n",
            "\u001b[1;31mRun the following command to install 'ipykernel' into the Python environment. \n",
            "\u001b[1;31mCommand: 'conda install -n base ipykernel --update-deps --force-reinstall'"
          ]
        }
      ],
      "source": [
        "# !pip install jupytercards\n",
        "!pip install jupyterquiz"
      ]
    },
    {
      "cell_type": "code",
      "execution_count": null,
      "metadata": {},
      "outputs": [],
      "source": [
        "# Imports\n",
        "from jupyterquiz import display_quiz\n",
        "from IPython.display import Image"
      ]
    },
    {
      "cell_type": "code",
      "execution_count": null,
      "metadata": {
        "colab": {
          "base_uri": "https://localhost:8080/",
          "height": 384
        },
        "id": "WL8ZNioW7I8c",
        "outputId": "8f399d23-15dc-44ee-f4f1-bee42b73896d"
      },
      "outputs": [],
      "source": [
        "display_quiz('submodule1_quiz/quiz1.json')"
      ]
    },
    {
      "cell_type": "code",
      "execution_count": null,
      "metadata": {
        "colab": {
          "base_uri": "https://localhost:8080/",
          "height": 367
        },
        "id": "s__lcUev05tc",
        "outputId": "9d52842c-46dd-4d98-920b-47c43b719a4c"
      },
      "outputs": [],
      "source": [
        "Image(\"images/sub1_q2.png\")"
      ]
    },
    {
      "cell_type": "code",
      "execution_count": null,
      "metadata": {
        "colab": {
          "base_uri": "https://localhost:8080/",
          "height": 384
        },
        "id": "JSxZvfJ70_3x",
        "outputId": "3428d85c-dfc7-4ad8-ee44-22d9cfca2459"
      },
      "outputs": [],
      "source": [
        "display_quiz('submodule1_quiz/quiz2.json')"
      ]
    },
    {
      "cell_type": "code",
      "execution_count": null,
      "metadata": {
        "colab": {
          "base_uri": "https://localhost:8080/",
          "height": 384
        },
        "id": "t8iiuB5X1KIs",
        "outputId": "9a4f2589-0820-45c7-f85d-7e96fbfbb090"
      },
      "outputs": [],
      "source": [
        "display_quiz('submodule1_quiz/quiz3.json')"
      ]
    },
    {
      "cell_type": "code",
      "execution_count": null,
      "metadata": {
        "colab": {
          "base_uri": "https://localhost:8080/",
          "height": 384
        },
        "id": "Y9YdBzCJ1OxB",
        "outputId": "808e4d24-5d93-4dbf-c3d9-51f39129c0a8"
      },
      "outputs": [],
      "source": [
        "display_quiz('submodule1_quiz/quiz4.json')"
      ]
    },
    {
      "cell_type": "code",
      "execution_count": null,
      "metadata": {
        "colab": {
          "base_uri": "https://localhost:8080/",
          "height": 384
        },
        "id": "NnUc2Qc31QKm",
        "outputId": "111fc99c-e87b-4ace-ca7a-8c9f3c095af5"
      },
      "outputs": [],
      "source": [
        "display_quiz('submodule1_quiz/quiz5.json')"
      ]
    },
    {
      "cell_type": "code",
      "execution_count": null,
      "metadata": {
        "colab": {
          "base_uri": "https://localhost:8080/",
          "height": 289
        },
        "id": "sYjB0pox1VDC",
        "outputId": "f1bcc063-72cb-47e3-93a2-1015c6f06e59"
      },
      "outputs": [],
      "source": [
        "Image(\"images/sub1_q6.jpg\")"
      ]
    },
    {
      "cell_type": "code",
      "execution_count": null,
      "metadata": {
        "colab": {
          "base_uri": "https://localhost:8080/",
          "height": 384
        },
        "id": "7uw_0lMB1hvi",
        "outputId": "a9dfe88c-4dd7-4a46-a776-6e4d3ea5e345"
      },
      "outputs": [],
      "source": [
        "display_quiz('submodule1_quiz/quiz6.json')"
      ]
    },
    {
      "cell_type": "code",
      "execution_count": null,
      "metadata": {
        "colab": {
          "base_uri": "https://localhost:8080/",
          "height": 281
        },
        "id": "gum7NDND1kFP",
        "outputId": "a5e313f9-ca46-4737-ea43-4158072fa300"
      },
      "outputs": [],
      "source": [
        "Image(\"images/sub1_q7.jpg\")"
      ]
    },
    {
      "cell_type": "code",
      "execution_count": null,
      "metadata": {
        "colab": {
          "base_uri": "https://localhost:8080/",
          "height": 384
        },
        "id": "5gk_48Su1mB8",
        "outputId": "c5af0fb6-3ad0-4758-da1d-31a51a2b5b8c"
      },
      "outputs": [],
      "source": [
        "display_quiz('submodule1_quiz/quiz7.json')"
      ]
    },
    {
      "cell_type": "code",
      "execution_count": null,
      "metadata": {
        "id": "vSQcw8Sg1p05"
      },
      "outputs": [],
      "source": []
    }
  ],
  "metadata": {
    "colab": {
      "provenance": []
    },
    "kernelspec": {
      "display_name": "mr-dev-conda",
      "language": "python",
      "name": "mr-dev-conda"
    },
    "language_info": {
      "name": "python",
      "version": "3.7.2"
    }
  },
  "nbformat": 4,
  "nbformat_minor": 0
}
